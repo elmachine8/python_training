{
 "cells": [
  {
   "cell_type": "markdown",
   "id": "89c79636-4757-4613-a91f-90a5c3cadb70",
   "metadata": {},
   "source": [
    "PYTHON TRAINING"
   ]
  },
  {
   "cell_type": "code",
   "execution_count": 2,
   "id": "d53468db-3b7c-41b5-87a4-258dedd1260a",
   "metadata": {},
   "outputs": [],
   "source": [
    "def reversing_list(l):\n",
    "    return l[::-1]"
   ]
  },
  {
   "cell_type": "code",
   "execution_count": 7,
   "id": "5d8211b5-47de-4bd1-8776-48fa2871311c",
   "metadata": {},
   "outputs": [
    {
     "data": {
      "text/plain": [
       "[500, 400, 300, 200, 100]"
      ]
     },
     "execution_count": 7,
     "metadata": {},
     "output_type": "execute_result"
    }
   ],
   "source": [
    "reversing_list([100, 200, 300, 400, 500])"
   ]
  },
  {
   "cell_type": "code",
   "execution_count": 19,
   "id": "cefe6144-26f2-4d31-adcf-8fd6ab067f39",
   "metadata": {},
   "outputs": [],
   "source": [
    "def concate_two_lists_index_wise(list1,list2):\n",
    "    return [i+j for i,j in zip(list1,list2)]\n",
    "        \n",
    "        "
   ]
  },
  {
   "cell_type": "code",
   "execution_count": 20,
   "id": "7c5183fe-f129-49a6-b3cc-472a4df701b9",
   "metadata": {},
   "outputs": [],
   "source": [
    "l = concate_two_lists_index_wise([\"M\", \"na\", \"i\", \"Ke\"],[\"y\", \"me\", \"s\", \"lly\"])"
   ]
  },
  {
   "cell_type": "code",
   "execution_count": 21,
   "id": "b1955821-4569-4097-957e-117ddcfa3a39",
   "metadata": {},
   "outputs": [
    {
     "name": "stdout",
     "output_type": "stream",
     "text": [
      "['My', 'name', 'is', 'Kelly']\n"
     ]
    }
   ],
   "source": [
    "print(l)"
   ]
  },
  {
   "cell_type": "code",
   "execution_count": null,
   "id": "3e8637a2-88d2-4fa4-a8e5-d91873968df3",
   "metadata": {},
   "outputs": [],
   "source": []
  }
 ],
 "metadata": {
  "kernelspec": {
   "display_name": "Python 3 (ipykernel)",
   "language": "python",
   "name": "python3"
  },
  "language_info": {
   "codemirror_mode": {
    "name": "ipython",
    "version": 3
   },
   "file_extension": ".py",
   "mimetype": "text/x-python",
   "name": "python",
   "nbconvert_exporter": "python",
   "pygments_lexer": "ipython3",
   "version": "3.11.7"
  }
 },
 "nbformat": 4,
 "nbformat_minor": 5
}
